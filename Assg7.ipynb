{
 "cells": [
  {
   "cell_type": "code",
   "execution_count": 1,
   "id": "9666119c",
   "metadata": {},
   "outputs": [
    {
     "name": "stdout",
     "output_type": "stream",
     "text": [
      "Requirement already satisfied: nltk in c:\\users\\nbhav\\anaconda3\\lib\\site-packages (3.7)\n",
      "Requirement already satisfied: regex>=2021.8.3 in c:\\users\\nbhav\\anaconda3\\lib\\site-packages (from nltk) (2022.3.15)\n",
      "Requirement already satisfied: joblib in c:\\users\\nbhav\\anaconda3\\lib\\site-packages (from nltk) (1.1.0)\n",
      "Requirement already satisfied: click in c:\\users\\nbhav\\anaconda3\\lib\\site-packages (from nltk) (8.0.4)\n",
      "Requirement already satisfied: tqdm in c:\\users\\nbhav\\anaconda3\\lib\\site-packages (from nltk) (4.64.0)\n",
      "Requirement already satisfied: colorama in c:\\users\\nbhav\\anaconda3\\lib\\site-packages (from click->nltk) (0.4.4)\n"
     ]
    }
   ],
   "source": [
    "!pip install nltk"
   ]
  },
  {
   "cell_type": "code",
   "execution_count": 2,
   "id": "14d16bc0",
   "metadata": {},
   "outputs": [],
   "source": [
    "##using NLTK library, we can do lot of text preprocesing\n",
    "import nltk\n",
    "import pandas as pd"
   ]
  },
  {
   "cell_type": "code",
   "execution_count": 3,
   "id": "b3353cac",
   "metadata": {},
   "outputs": [
    {
     "name": "stderr",
     "output_type": "stream",
     "text": [
      "[nltk_data] Downloading package punkt to\n",
      "[nltk_data]     C:\\Users\\nbhav\\AppData\\Roaming\\nltk_data...\n",
      "[nltk_data]   Unzipping tokenizers\\punkt.zip.\n",
      "[nltk_data] Downloading package stopwords to\n",
      "[nltk_data]     C:\\Users\\nbhav\\AppData\\Roaming\\nltk_data...\n",
      "[nltk_data]   Unzipping corpora\\stopwords.zip.\n"
     ]
    },
    {
     "data": {
      "text/plain": [
       "True"
      ]
     },
     "execution_count": 3,
     "metadata": {},
     "output_type": "execute_result"
    }
   ],
   "source": [
    "nltk.download('punkt')\n",
    "nltk.download('stopwords')"
   ]
  },
  {
   "cell_type": "code",
   "execution_count": 4,
   "id": "d63c87af",
   "metadata": {},
   "outputs": [
    {
     "name": "stdout",
     "output_type": "stream",
     "text": [
      "['India, country that occupies the greater part of South Asia.', 'Its capital is New Delhi, built in the 20th century just south of the historic hub of Old Delhi to serve as India’s administrative centre.', 'Its government is a constitutional republic that represents a highly diverse population consisting of thousands of ethnic groups and likely hundreds of languages.', 'With roughly one-sixth of the world’s total population, India is the second most populous country, after China.', 'It is known from archaeological evidence that a highly sophisticated urbanized culture—the Indus civilization—dominated the northwestern part of the subcontinent from about 2600 to 2000 BCE.', 'From that period on, India functioned as a virtually self-contained political and cultural arena, which gave rise to a distinctive tradition that was associated primarily with Hinduism, the roots of which can largely be traced to the Indus civilization.', 'Other religions, notably Buddhism and Jainism, originated in India—though their presence there is now quite small—and throughout the centuries residents of the subcontinent developed a rich intellectual life in such fields as mathematics, astronomy, architecture, literature, music, and the fine arts.']\n"
     ]
    }
   ],
   "source": [
    "#Sentence Tokenization\n",
    "#Sentence tokenizer breaks text paragraph into sentences.\n",
    "\n",
    "from nltk.tokenize import sent_tokenize\n",
    "text=\"\"\"India, country that occupies the greater part of South Asia. Its capital is New Delhi, built in the 20th century just south of the historic hub of Old Delhi to serve as India’s administrative centre. Its government is a constitutional republic that represents a highly diverse population consisting of thousands of ethnic groups and likely hundreds of languages. With roughly one-sixth of the world’s total population, India is the second most populous country, after China.\n",
    "\n",
    "It is known from archaeological evidence that a highly sophisticated urbanized culture—the Indus civilization—dominated the northwestern part of the subcontinent from about 2600 to 2000 BCE. From that period on, India functioned as a virtually self-contained political and cultural arena, which gave rise to a distinctive tradition that was associated primarily with Hinduism, the roots of which can largely be traced to the Indus civilization. Other religions, notably Buddhism and Jainism, originated in India—though their presence there is now quite small—and throughout the centuries residents of the subcontinent developed a rich intellectual life in such fields as mathematics, astronomy, architecture, literature, music, and the fine arts.\"\"\"\n",
    "\n",
    "tokenized_text=sent_tokenize(text)\n",
    "print(tokenized_text)"
   ]
  },
  {
   "cell_type": "code",
   "execution_count": 7,
   "id": "7f0205a6",
   "metadata": {},
   "outputs": [
    {
     "name": "stdout",
     "output_type": "stream",
     "text": [
      "['India', ',', 'country', 'that', 'occupies', 'the', 'greater', 'part', 'of', 'South', 'Asia', '.', 'Its', 'capital', 'is', 'New', 'Delhi', ',', 'built', 'in', 'the', '20th', 'century', 'just', 'south', 'of', 'the', 'historic', 'hub', 'of', 'Old', 'Delhi', 'to', 'serve', 'as', 'India', '’', 's', 'administrative', 'centre', '.', 'Its', 'government', 'is', 'a', 'constitutional', 'republic', 'that', 'represents', 'a', 'highly', 'diverse', 'population', 'consisting', 'of', 'thousands', 'of', 'ethnic', 'groups', 'and', 'likely', 'hundreds', 'of', 'languages', '.', 'With', 'roughly', 'one-sixth', 'of', 'the', 'world', '’', 's', 'total', 'population', ',', 'India', 'is', 'the', 'second', 'most', 'populous', 'country', ',', 'after', 'China', '.', 'It', 'is', 'known', 'from', 'archaeological', 'evidence', 'that', 'a', 'highly', 'sophisticated', 'urbanized', 'culture—the', 'Indus', 'civilization—dominated', 'the', 'northwestern', 'part', 'of', 'the', 'subcontinent', 'from', 'about', '2600', 'to', '2000', 'BCE', '.', 'From', 'that', 'period', 'on', ',', 'India', 'functioned', 'as', 'a', 'virtually', 'self-contained', 'political', 'and', 'cultural', 'arena', ',', 'which', 'gave', 'rise', 'to', 'a', 'distinctive', 'tradition', 'that', 'was', 'associated', 'primarily', 'with', 'Hinduism', ',', 'the', 'roots', 'of', 'which', 'can', 'largely', 'be', 'traced', 'to', 'the', 'Indus', 'civilization', '.', 'Other', 'religions', ',', 'notably', 'Buddhism', 'and', 'Jainism', ',', 'originated', 'in', 'India—though', 'their', 'presence', 'there', 'is', 'now', 'quite', 'small—and', 'throughout', 'the', 'centuries', 'residents', 'of', 'the', 'subcontinent', 'developed', 'a', 'rich', 'intellectual', 'life', 'in', 'such', 'fields', 'as', 'mathematics', ',', 'astronomy', ',', 'architecture', ',', 'literature', ',', 'music', ',', 'and', 'the', 'fine', 'arts', '.']\n"
     ]
    }
   ],
   "source": [
    "#Word Tokenization\n",
    "#Word tokenizer breaks text paragraph into words.\n",
    "\n",
    "from nltk.tokenize import word_tokenize\n",
    "tokenized_word=word_tokenize(text)\n",
    "print(tokenized_word)"
   ]
  },
  {
   "cell_type": "code",
   "execution_count": 8,
   "id": "98ce1c81",
   "metadata": {},
   "outputs": [
    {
     "name": "stdout",
     "output_type": "stream",
     "text": [
      "<FreqDist with 129 samples and 206 outcomes>\n"
     ]
    }
   ],
   "source": [
    "#Frequency Distribution\n",
    "\n",
    "from nltk.probability import FreqDist\n",
    "fdist = FreqDist(tokenized_word)\n",
    "print(fdist)"
   ]
  },
  {
   "cell_type": "code",
   "execution_count": 9,
   "id": "7b0e024a",
   "metadata": {},
   "outputs": [
    {
     "data": {
      "text/plain": [
       "[(',', 14), ('the', 12)]"
      ]
     },
     "execution_count": 9,
     "metadata": {},
     "output_type": "execute_result"
    }
   ],
   "source": [
    "fdist.most_common(2)"
   ]
  },
  {
   "cell_type": "code",
   "execution_count": 10,
   "id": "944037e1",
   "metadata": {},
   "outputs": [
    {
     "data": {
      "image/png": "[encoded data removed]",
      "text/plain": [
       "<Figure size 432x288 with 1 Axes>"
      ]
     },
     "metadata": {
      "needs_background": "light"
     },
     "output_type": "display_data"
    }
   ],
   "source": [
    "# Frequency Distribution Plot\n",
    "import matplotlib.pyplot as plt\n",
    "fdist.plot(30,cumulative=False)\n",
    "plt.show()"
   ]
  },
  {
   "cell_type": "code",
   "execution_count": 11,
   "id": "9228362b",
   "metadata": {},
   "outputs": [
    {
     "name": "stdout",
     "output_type": "stream",
     "text": [
      "{'few', 'where', 'its', \"weren't\", 'each', \"should've\", 'that', 'the', 'when', 'hadn', 'only', \"aren't\", 'here', 'needn', 'have', 'other', 'will', 'above', 'in', \"didn't\", 'there', 'ourselves', 'are', 'because', 'once', 'mustn', 'ma', 'her', 'isn', \"you're\", \"mustn't\", \"that'll\", \"doesn't\", 'at', 'very', \"you'd\", 'not', 'were', 'more', 'won', 'haven', 'no', 'has', 'any', 'while', 'both', 'your', 't', 'on', \"wouldn't\", 'with', 'until', 'it', 'a', 'now', 'was', 'doing', 'how', 'so', 'ours', 'all', 'under', \"don't\", 'most', \"needn't\", 'again', 'he', 'but', \"it's\", 'you', 'after', 'herself', 'itself', \"isn't\", 'yourself', 'my', 'myself', 'be', \"you've\", 'before', 'up', 'who', 'don', 'his', 'wasn', 'why', 'couldn', 'and', 'themselves', \"haven't\", 'if', 'over', 'ain', 'didn', 'of', 'weren', 'hasn', 'between', 'down', 's', 'having', 'we', 'been', 'about', 'than', 'should', 'i', \"hasn't\", 'whom', 'below', 'to', 'hers', 'they', 'did', 'for', 'can', \"wasn't\", 'which', 'from', 'she', 'is', 'm', 'or', 'same', 'into', 'being', 'then', \"won't\", 'too', 'out', 'what', 've', 'y', 'some', 'an', \"you'll\", 'as', 'through', \"mightn't\", \"shan't\", \"couldn't\", 'own', \"hadn't\", 'such', 'theirs', 'o', 'further', 'had', 'himself', 'those', 'wouldn', 'mightn', 'aren', \"she's\", 'off', 'doesn', 'shouldn', 'shan', 'am', 'nor', 'him', \"shouldn't\", 'our', 'does', 'during', 'by', 'd', 'their', 'yours', 'against', 'yourselves', 'this', 'll', 'me', 'them', 'just', 'do', 're', 'these'}\n"
     ]
    }
   ],
   "source": [
    "#Stopwords\n",
    "#Stopwords considered as noise in the text. \n",
    "#Text may contain stop words such as is, am, are, this, a, an, the, etc.\n",
    "\n",
    "from nltk.corpus import stopwords\n",
    "stop_words=set(stopwords.words(\"english\"))\n",
    "print(stop_words)"
   ]
  },
  {
   "cell_type": "code",
   "execution_count": 12,
   "id": "1a09b687",
   "metadata": {},
   "outputs": [
    {
     "name": "stdout",
     "output_type": "stream",
     "text": [
      "Tokenized Sentence: ['India', ',', 'country', 'that', 'occupies', 'the', 'greater', 'part', 'of', 'South', 'Asia', '.', 'Its', 'capital', 'is', 'New', 'Delhi', ',', 'built', 'in', 'the', '20th', 'century', 'just', 'south', 'of', 'the', 'historic', 'hub', 'of', 'Old', 'Delhi', 'to', 'serve', 'as', 'India', '’', 's', 'administrative', 'centre', '.', 'Its', 'government', 'is', 'a', 'constitutional', 'republic', 'that', 'represents', 'a', 'highly', 'diverse', 'population', 'consisting', 'of', 'thousands', 'of', 'ethnic', 'groups', 'and', 'likely', 'hundreds', 'of', 'languages', '.', 'With', 'roughly', 'one-sixth', 'of', 'the', 'world', '’', 's', 'total', 'population', ',', 'India', 'is', 'the', 'second', 'most', 'populous', 'country', ',', 'after', 'China', '.', 'It', 'is', 'known', 'from', 'archaeological', 'evidence', 'that', 'a', 'highly', 'sophisticated', 'urbanized', 'culture—the', 'Indus', 'civilization—dominated', 'the', 'northwestern', 'part', 'of', 'the', 'subcontinent', 'from', 'about', '2600', 'to', '2000', 'BCE', '.', 'From', 'that', 'period', 'on', ',', 'India', 'functioned', 'as', 'a', 'virtually', 'self-contained', 'political', 'and', 'cultural', 'arena', ',', 'which', 'gave', 'rise', 'to', 'a', 'distinctive', 'tradition', 'that', 'was', 'associated', 'primarily', 'with', 'Hinduism', ',', 'the', 'roots', 'of', 'which', 'can', 'largely', 'be', 'traced', 'to', 'the', 'Indus', 'civilization', '.', 'Other', 'religions', ',', 'notably', 'Buddhism', 'and', 'Jainism', ',', 'originated', 'in', 'India—though', 'their', 'presence', 'there', 'is', 'now', 'quite', 'small—and', 'throughout', 'the', 'centuries', 'residents', 'of', 'the', 'subcontinent', 'developed', 'a', 'rich', 'intellectual', 'life', 'in', 'such', 'fields', 'as', 'mathematics', ',', 'astronomy', ',', 'architecture', ',', 'literature', ',', 'music', ',', 'and', 'the', 'fine', 'arts', '.']\n",
      "Filterd Sentence: ['India', ',', 'country', 'occupies', 'greater', 'part', 'South', 'Asia', '.', 'Its', 'capital', 'New', 'Delhi', ',', 'built', '20th', 'century', 'south', 'historic', 'hub', 'Old', 'Delhi', 'serve', 'India', '’', 'administrative', 'centre', '.', 'Its', 'government', 'constitutional', 'republic', 'represents', 'highly', 'diverse', 'population', 'consisting', 'thousands', 'ethnic', 'groups', 'likely', 'hundreds', 'languages', '.', 'With', 'roughly', 'one-sixth', 'world', '’', 'total', 'population', ',', 'India', 'second', 'populous', 'country', ',', 'China', '.', 'It', 'known', 'archaeological', 'evidence', 'highly', 'sophisticated', 'urbanized', 'culture—the', 'Indus', 'civilization—dominated', 'northwestern', 'part', 'subcontinent', '2600', '2000', 'BCE', '.', 'From', 'period', ',', 'India', 'functioned', 'virtually', 'self-contained', 'political', 'cultural', 'arena', ',', 'gave', 'rise', 'distinctive', 'tradition', 'associated', 'primarily', 'Hinduism', ',', 'roots', 'largely', 'traced', 'Indus', 'civilization', '.', 'Other', 'religions', ',', 'notably', 'Buddhism', 'Jainism', ',', 'originated', 'India—though', 'presence', 'quite', 'small—and', 'throughout', 'centuries', 'residents', 'subcontinent', 'developed', 'rich', 'intellectual', 'life', 'fields', 'mathematics', ',', 'astronomy', ',', 'architecture', ',', 'literature', ',', 'music', ',', 'fine', 'arts', '.']\n"
     ]
    }
   ],
   "source": [
    "#Removing Stopwords\n",
    "#In NLTK for removing stopwords, you need to create a list of stopwords \n",
    "#and filter out your list of tokens from these words.\n",
    "\n",
    "filtered_sent=[]\n",
    "for w in tokenized_word:\n",
    "    if w not in stop_words:\n",
    "        filtered_sent.append(w)\n",
    "print(\"Tokenized Sentence:\",tokenized_word)\n",
    "print(\"Filterd Sentence:\",filtered_sent)"
   ]
  },
  {
   "cell_type": "code",
   "execution_count": 13,
   "id": "3d2089d9",
   "metadata": {},
   "outputs": [
    {
     "name": "stdout",
     "output_type": "stream",
     "text": [
      "Filtered Sentence: ['India', ',', 'country', 'occupies', 'greater', 'part', 'South', 'Asia', '.', 'Its', 'capital', 'New', 'Delhi', ',', 'built', '20th', 'century', 'south', 'historic', 'hub', 'Old', 'Delhi', 'serve', 'India', '’', 'administrative', 'centre', '.', 'Its', 'government', 'constitutional', 'republic', 'represents', 'highly', 'diverse', 'population', 'consisting', 'thousands', 'ethnic', 'groups', 'likely', 'hundreds', 'languages', '.', 'With', 'roughly', 'one-sixth', 'world', '’', 'total', 'population', ',', 'India', 'second', 'populous', 'country', ',', 'China', '.', 'It', 'known', 'archaeological', 'evidence', 'highly', 'sophisticated', 'urbanized', 'culture—the', 'Indus', 'civilization—dominated', 'northwestern', 'part', 'subcontinent', '2600', '2000', 'BCE', '.', 'From', 'period', ',', 'India', 'functioned', 'virtually', 'self-contained', 'political', 'cultural', 'arena', ',', 'gave', 'rise', 'distinctive', 'tradition', 'associated', 'primarily', 'Hinduism', ',', 'roots', 'largely', 'traced', 'Indus', 'civilization', '.', 'Other', 'religions', ',', 'notably', 'Buddhism', 'Jainism', ',', 'originated', 'India—though', 'presence', 'quite', 'small—and', 'throughout', 'centuries', 'residents', 'subcontinent', 'developed', 'rich', 'intellectual', 'life', 'fields', 'mathematics', ',', 'astronomy', ',', 'architecture', ',', 'literature', ',', 'music', ',', 'fine', 'arts', '.']\n",
      "Stemmed Sentence: ['india', ',', 'countri', 'occupi', 'greater', 'part', 'south', 'asia', '.', 'it', 'capit', 'new', 'delhi', ',', 'built', '20th', 'centuri', 'south', 'histor', 'hub', 'old', 'delhi', 'serv', 'india', '’', 'administr', 'centr', '.', 'it', 'govern', 'constitut', 'republ', 'repres', 'highli', 'divers', 'popul', 'consist', 'thousand', 'ethnic', 'group', 'like', 'hundr', 'languag', '.', 'with', 'roughli', 'one-sixth', 'world', '’', 'total', 'popul', ',', 'india', 'second', 'popul', 'countri', ',', 'china', '.', 'it', 'known', 'archaeolog', 'evid', 'highli', 'sophist', 'urban', 'culture—th', 'indu', 'civilization—domin', 'northwestern', 'part', 'subcontin', '2600', '2000', 'bce', '.', 'from', 'period', ',', 'india', 'function', 'virtual', 'self-contain', 'polit', 'cultur', 'arena', ',', 'gave', 'rise', 'distinct', 'tradit', 'associ', 'primarili', 'hinduism', ',', 'root', 'larg', 'trace', 'indu', 'civil', '.', 'other', 'religion', ',', 'notabl', 'buddhism', 'jainism', ',', 'origin', 'india—though', 'presenc', 'quit', 'small—and', 'throughout', 'centuri', 'resid', 'subcontin', 'develop', 'rich', 'intellectu', 'life', 'field', 'mathemat', ',', 'astronomi', ',', 'architectur', ',', 'literatur', ',', 'music', ',', 'fine', 'art', '.']\n"
     ]
    }
   ],
   "source": [
    "# Stemming\n",
    "from nltk.stem import PorterStemmer\n",
    "from nltk.tokenize import sent_tokenize, word_tokenize\n",
    "\n",
    "ps = PorterStemmer()\n",
    "\n",
    "stemmed_words=[]\n",
    "for w in filtered_sent:\n",
    "    stemmed_words.append(ps.stem(w))\n",
    "\n",
    "print(\"Filtered Sentence:\",filtered_sent)\n",
    "print(\"Stemmed Sentence:\",stemmed_words)"
   ]
  },
  {
   "cell_type": "code",
   "execution_count": 14,
   "id": "e74688f8",
   "metadata": {},
   "outputs": [
    {
     "name": "stderr",
     "output_type": "stream",
     "text": [
      "[nltk_data] Downloading package wordnet to\n",
      "[nltk_data]     C:\\Users\\nbhav\\AppData\\Roaming\\nltk_data...\n",
      "[nltk_data]   Unzipping corpora\\wordnet.zip.\n",
      "[nltk_data] Downloading package omw-1.4 to\n",
      "[nltk_data]     C:\\Users\\nbhav\\AppData\\Roaming\\nltk_data...\n",
      "[nltk_data]   Unzipping corpora\\omw-1.4.zip.\n"
     ]
    },
    {
     "name": "stdout",
     "output_type": "stream",
     "text": [
      "Lemmatized Word: fly\n",
      "Stemmed Word: fli\n"
     ]
    }
   ],
   "source": [
    "#Lexicon Normalization\n",
    "#performing stemming and Lemmatization\n",
    "\n",
    "nltk.download('wordnet')\n",
    "nltk.download('omw-1.4')\n",
    "from nltk.stem.wordnet import WordNetLemmatizer\n",
    "lem = WordNetLemmatizer()\n",
    "\n",
    "from nltk.stem.porter import PorterStemmer\n",
    "stem = PorterStemmer()\n",
    "\n",
    "word = \"flying\"\n",
    "print(\"Lemmatized Word:\",lem.lemmatize(word,\"v\"))\n",
    "print(\"Stemmed Word:\",stem.stem(word))"
   ]
  },
  {
   "cell_type": "code",
   "execution_count": 15,
   "id": "68249e3f",
   "metadata": {},
   "outputs": [
    {
     "name": "stdout",
     "output_type": "stream",
     "text": [
      "['Albert', 'Einstein', 'was', 'born', 'in', 'Ulm', ',', 'Germany', 'in', '1879', '.']\n"
     ]
    }
   ],
   "source": [
    "#POS Tagging\n",
    "\n",
    "sent = \"Albert Einstein was born in Ulm, Germany in 1879.\"\n",
    "tokens=nltk.word_tokenize(sent)\n",
    "print(tokens)"
   ]
  },
  {
   "cell_type": "code",
   "execution_count": 16,
   "id": "7bf41075",
   "metadata": {},
   "outputs": [
    {
     "name": "stderr",
     "output_type": "stream",
     "text": [
      "[nltk_data] Downloading package averaged_perceptron_tagger to\n",
      "[nltk_data]     C:\\Users\\nbhav\\AppData\\Roaming\\nltk_data...\n",
      "[nltk_data]   Unzipping taggers\\averaged_perceptron_tagger.zip.\n"
     ]
    },
    {
     "data": {
      "text/plain": [
       "[('Albert', 'NNP'),\n",
       " ('Einstein', 'NNP'),\n",
       " ('was', 'VBD'),\n",
       " ('born', 'VBN'),\n",
       " ('in', 'IN'),\n",
       " ('Ulm', 'NNP'),\n",
       " (',', ','),\n",
       " ('Germany', 'NNP'),\n",
       " ('in', 'IN'),\n",
       " ('1879', 'CD'),\n",
       " ('.', '.')]"
      ]
     },
     "execution_count": 16,
     "metadata": {},
     "output_type": "execute_result"
    }
   ],
   "source": [
    "nltk.download('averaged_perceptron_tagger')\n",
    "nltk.pos_tag(tokens)"
   ]
  },
  {
   "cell_type": "code",
   "execution_count": 17,
   "id": "787b5051",
   "metadata": {},
   "outputs": [],
   "source": [
    "from sklearn.feature_extraction.text import TfidfVectorizer,CountVectorizer\n"
   ]
  },
  {
   "cell_type": "code",
   "execution_count": 18,
   "id": "a437247f",
   "metadata": {},
   "outputs": [],
   "source": [
    "countvectorizer = CountVectorizer(analyzer= 'word', stop_words='english')\n",
    "tfidfvectorizer = TfidfVectorizer(analyzer='word',stop_words= 'english')\n",
    "\n"
   ]
  },
  {
   "cell_type": "code",
   "execution_count": 19,
   "id": "7d16b0e2",
   "metadata": {},
   "outputs": [],
   "source": [
    "data = {'Text': [text]} \n",
    "df = pd.DataFrame(data)"
   ]
  },
  {
   "cell_type": "code",
   "execution_count": 20,
   "id": "abf39e8f",
   "metadata": {},
   "outputs": [],
   "source": [
    "count_wm = countvectorizer.fit_transform(df['Text'])\n",
    "tfidf_wm = tfidfvectorizer.fit_transform(df['Text'])"
   ]
  },
  {
   "cell_type": "code",
   "execution_count": 21,
   "id": "64442746",
   "metadata": {},
   "outputs": [
    {
     "name": "stderr",
     "output_type": "stream",
     "text": [
      "C:\\Users\\nbhav\\anaconda3\\lib\\site-packages\\sklearn\\utils\\deprecation.py:87: FutureWarning: Function get_feature_names is deprecated; get_feature_names is deprecated in 1.0 and will be removed in 1.2. Please use get_feature_names_out instead.\n",
      "  warnings.warn(msg, category=FutureWarning)\n"
     ]
    }
   ],
   "source": [
    "count_tokens = countvectorizer.get_feature_names()\n",
    "tfidf_tokens = tfidfvectorizer.get_feature_names()"
   ]
  },
  {
   "cell_type": "code",
   "execution_count": 22,
   "id": "925aa456",
   "metadata": {},
   "outputs": [
    {
     "name": "stdout",
     "output_type": "stream",
     "text": [
      "                TF-IDF\n",
      "india         0.419591\n",
      "delhi         0.167836\n",
      "indus         0.167836\n",
      "country       0.167836\n",
      "population    0.167836\n",
      "subcontinent  0.167836\n",
      "south         0.167836\n",
      "highly        0.167836\n",
      "civilization  0.167836\n",
      "occupies      0.083918\n",
      "presence      0.083918\n",
      "populous      0.083918\n",
      "political     0.083918\n",
      "period        0.083918\n",
      "originated    0.083918\n",
      "old           0.083918\n",
      "2000          0.083918\n",
      "notably       0.083918\n",
      "northwestern  0.083918\n",
      "primarily     0.083918\n",
      "music         0.083918\n",
      "mathematics   0.083918\n",
      "literature    0.083918\n",
      "likely        0.083918\n",
      "life          0.083918\n"
     ]
    }
   ],
   "source": [
    "df = pd.DataFrame(tfidf_wm[0].T.todense(), index=tfidfvectorizer.get_feature_names(), columns=[\"TF-IDF\"])\n",
    "df = df.sort_values('TF-IDF', ascending=False)\n",
    "print (df.head(25))"
   ]
  },
  {
   "cell_type": "code",
   "execution_count": null,
   "id": "05106e74",
   "metadata": {},
   "outputs": [],
   "source": []
  }
 ],
 "metadata": {
  "kernelspec": {
   "display_name": "Python 3 (ipykernel)",
   "language": "python",
   "name": "python3"
  },
  "language_info": {
   "codemirror_mode": {
    "name": "ipython",
    "version": 3
   },
   "file_extension": ".py",
   "mimetype": "text/x-python",
   "name": "python",
   "nbconvert_exporter": "python",
   "pygments_lexer": "ipython3",
   "version": "3.9.12"
  }
 },
 "nbformat": 4,
 "nbformat_minor": 5
}
